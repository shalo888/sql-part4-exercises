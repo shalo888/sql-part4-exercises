{
    "metadata": {
        "kernelspec": {
            "name": "SQL",
            "display_name": "SQL",
            "language": "sql"
        },
        "language_info": {
            "name": "sql",
            "version": ""
        }
    },
    "nbformat_minor": 2,
    "nbformat": 4,
    "cells": [
        {
            "cell_type": "markdown",
            "source": [
                "# Exercises: Complex queries\n",
                "\n",
                "For the exercises, you are tasked with writing five queries that will help you delve deeper into BooksDB. You can choose whether you want to use a correlated subquery, a nested subquery, the UNION operator, the INTERSECT operator, or the EXCEPT operator for each one. You may not use joins or add multiple statements to the WHERE clause.\n",
                "\n",
                "1. Write a query that will return the number of users who rated a book above it's average rating."
            ],
            "metadata": {
                "azdata_cell_guid": "10006a10-882f-4f55-8d42-f36044fdb6c7"
            },
            "attachments": {}
        },
        {
            "cell_type": "code",
            "source": [
                "SELECT user_id,rating\r\n",
                "    FROM BooksDB.dbo.ratings OUTER\r\n",
                "    WHERE rating >\r\n",
                "        (SELECT b.average_rating\r\n",
                "        FROM BooksDB.dbo.books AS b\r\n",
                "        WHERE b.average_rating < rating );\r\n",
                ""
            ],
            "metadata": {
                "azdata_cell_guid": "203eb95e-6585-435f-8a8e-bfa0dfe6f7c0",
                "tags": [],
                "language": "sql"
            },
            "outputs": [
                {
                    "output_type": "error",
                    "evalue": "Msg 156, Level 15, State 1, Line 3\r\nIncorrect syntax near the keyword 'WHERE'.",
                    "ename": "",
                    "traceback": []
                },
                {
                    "output_type": "error",
                    "evalue": "Msg 156, Level 15, State 1, Line 6\r\nIncorrect syntax near the keyword 'outer'.",
                    "ename": "",
                    "traceback": []
                },
                {
                    "output_type": "display_data",
                    "data": {
                        "text/html": "Total execution time: 00:00:00.078"
                    },
                    "metadata": {}
                }
            ],
            "execution_count": 1
        },
        {
            "cell_type": "markdown",
            "source": [
                "2. Write a query that returns the book ids of all books that have over 1000 ratings of 1 star or over 1000 ratings of 5 stars."
            ],
            "metadata": {
                "azdata_cell_guid": "7f849931-6c9c-4cd9-b3ba-66871052673d"
            },
            "attachments": {}
        },
        {
            "cell_type": "code",
            "source": [
                "SELECT TOP 10 COUNT(b.title) AS NumToRead, tr.user_id\r\n",
                "FROM BooksDB.dbo.books AS b\r\n",
                "INNER JOIN BooksDB.dbo.to_read AS tr\r\n",
                "ON b.book_id = tr.book_id\r\n",
                "GROUP BY tr.user_id\r\n",
                "ORDER BY NumToRead DESC;\r\n",
                ""
            ],
            "metadata": {
                "azdata_cell_guid": "bce732e3-1590-457b-b1f9-5319345ff790",
                "language": "sql"
            },
            "outputs": [
                {
                    "output_type": "display_data",
                    "data": {
                        "text/html": "Commands completed successfully."
                    },
                    "metadata": {}
                },
                {
                    "output_type": "display_data",
                    "data": {
                        "text/html": "Total execution time: 00:00:00"
                    },
                    "metadata": {}
                }
            ],
            "execution_count": 2
        },
        {
            "cell_type": "markdown",
            "source": [
                "3. Write a query that returns the book ids of all books that have over 1000 ratings of 1 star and over 1000 ratings of 5 stars."
            ],
            "metadata": {
                "azdata_cell_guid": "9c53b866-c8e8-465e-b089-7702b191a15e"
            },
            "attachments": {}
        },
        {
            "cell_type": "code",
            "source": [
                "SELECT TOP 10 COUNT(b.title) AS NumToRead, tr.user_id\r\n",
                "FROM BooksDB.dbo.books AS b\r\n",
                "INNER JOIN BooksDB.dbo.to_read AS tr\r\n",
                "ON b.book_id = tr.book_id\r\n",
                "GROUP BY tr.user_id\r\n",
                "ORDER BY NumToRead DESC;\r\n",
                ""
            ],
            "metadata": {
                "azdata_cell_guid": "43e39973-5a29-45ff-b2a9-9c658a19c296",
                "language": "sql"
            },
            "outputs": [
                {
                    "output_type": "display_data",
                    "data": {
                        "text/html": "Commands completed successfully."
                    },
                    "metadata": {}
                },
                {
                    "output_type": "display_data",
                    "data": {
                        "text/html": "Total execution time: 00:00:00"
                    },
                    "metadata": {}
                }
            ],
            "execution_count": 3
        },
        {
            "cell_type": "markdown",
            "source": [
                "4. Write a query that returns the book ids of books that have a language code of \"en-US\" and not a langugae code of \"en-GB\"."
            ],
            "metadata": {
                "azdata_cell_guid": "2bd4844b-83af-490f-97cd-fdc1fa2944ec"
            },
            "attachments": {}
        },
        {
            "cell_type": "code",
            "source": [
                "SELECT TOP 10 COUNT(b.title) AS NumToRead, tr.user_id\r\n",
                "FROM BooksDB.dbo.books AS b\r\n",
                "INNER JOIN BooksDB.dbo.to_read AS tr\r\n",
                "ON b.book_id = tr.book_id\r\n",
                "GROUP BY tr.user_id\r\n",
                "ORDER BY NumToRead DESC;\r\n",
                ""
            ],
            "metadata": {
                "azdata_cell_guid": "ba5a1b61-19c0-4d70-ae8d-2daae6ae1e21",
                "language": "sql"
            },
            "outputs": [
                {
                    "output_type": "display_data",
                    "data": {
                        "text/html": "Commands completed successfully."
                    },
                    "metadata": {}
                },
                {
                    "output_type": "display_data",
                    "data": {
                        "text/html": "Total execution time: 00:00:00"
                    },
                    "metadata": {}
                }
            ],
            "execution_count": 4
        },
        {
            "cell_type": "markdown",
            "source": [
                "5. Write a query that returns the names of the tags and the tag ids for tags that were used over 100,000 times for a book. "
            ],
            "metadata": {
                "azdata_cell_guid": "6ddd588f-a84c-4c77-93ac-e8c8bd21d0f5"
            },
            "attachments": {}
        },
        {
            "cell_type": "code",
            "source": [
                "SELECT TOP 10 COUNT(b.title) AS NumToRead, tr.user_id\r\n",
                "FROM BooksDB.dbo.books AS b\r\n",
                "INNER JOIN BooksDB.dbo.to_read AS tr\r\n",
                "ON b.book_id = tr.book_id\r\n",
                "GROUP BY tr.user_id\r\n",
                "ORDER BY NumToRead DESC;\r\n",
                ""
            ],
            "metadata": {
                "azdata_cell_guid": "90f61ad7-65cb-4ea8-85a3-d8c815cfe347",
                "tags": [],
                "language": "sql"
            },
            "outputs": [
                {
                    "output_type": "display_data",
                    "data": {
                        "text/html": "Commands completed successfully."
                    },
                    "metadata": {}
                },
                {
                    "output_type": "display_data",
                    "data": {
                        "text/html": "Total execution time: 00:00:00"
                    },
                    "metadata": {}
                }
            ],
            "execution_count": 5
        }
    ]
}